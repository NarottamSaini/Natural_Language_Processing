{
  "nbformat": 4,
  "nbformat_minor": 0,
  "metadata": {
    "colab": {
      "name": "Natural_Lang_processing_word2vec.py.ipynb",
      "provenance": [],
      "collapsed_sections": []
    },
    "kernelspec": {
      "name": "python3",
      "display_name": "Python 3"
    }
  },
  "cells": [
    {
      "cell_type": "code",
      "metadata": {
        "id": "VDcWmzTYbdlu",
        "colab_type": "code",
        "colab": {
          "base_uri": "https://localhost:8080/",
          "height": 88
        },
        "outputId": "07a4a826-84fe-4b54-9747-e7909316c64b"
      },
      "source": [
        "import re\n",
        "import nltk\n",
        "from nltk import *\n",
        "nltk.download('punkt')\n",
        "nltk.download('stopwords')\n",
        "\n",
        "from gensim.models import Word2Vec\n",
        "from nltk.corpus import stopwords"
      ],
      "execution_count": 5,
      "outputs": [
        {
          "output_type": "stream",
          "text": [
            "[nltk_data] Downloading package punkt to /root/nltk_data...\n",
            "[nltk_data]   Unzipping tokenizers/punkt.zip.\n",
            "[nltk_data] Downloading package stopwords to /root/nltk_data...\n",
            "[nltk_data]   Unzipping corpora/stopwords.zip.\n"
          ],
          "name": "stdout"
        }
      ]
    },
    {
      "cell_type": "code",
      "metadata": {
        "id": "GabNZn6mbuBN",
        "colab_type": "code",
        "colab": {}
      },
      "source": [
        "# paragraph = \"\"\"I have three visions for India. In 3000 years of our history, people from all over \n",
        "\n",
        "#                the world have come and invaded us, captured our lands, conquered our minds. \n",
        "\n",
        "#                From Alexander onwards, the Greeks, the Turks, the Moguls, the Portuguese, the British,\n",
        "\n",
        "#                the French, the Dutch, all of them came and looted us, took over what was ours. \n",
        "\n",
        "#                Yet we have not done this to any other nation. We have not conquered anyone. \n",
        "\n",
        "#                We have not grabbed their land, their culture, \n",
        "\n",
        "#                their history and tried to enforce our way of life on them. \n",
        "\n",
        "#                Why? Because we respect the freedom of others.That is why my \n",
        "\n",
        "#                first vision is that of freedom. I believe that India got its first vision of \n",
        "\n",
        "#                this in 1857, when we started the War of Independence. It is this freedom that\n",
        "\n",
        "#                we must protect and nurture and build on. If we are not free, no one will respect us.\n",
        "\n",
        "#                My second vision for India’s development. For fifty years we have been a developing nation.\n",
        "\n",
        "#                It is time we see ourselves as a developed nation. We are among the top 5 nations of the world\n",
        "\n",
        "#                in terms of GDP. We have a 10 percent growth rate in most areas. Our poverty levels are falling.\n",
        "\n",
        "#                Our achievements are being globally recognised today. Yet we lack the self-confidence to\n",
        "\n",
        "#                see ourselves as a developed nation, self-reliant and self-assured. Isn’t this incorrect?\n",
        "\n",
        "#                I have a third vision. India must stand up to the world. Because I believe that unless India \n",
        "\n",
        "#                stands up to the world, no one will respect us. Only strength respects strength. We must be \n",
        "\n",
        "#                strong not only as a military power but also as an economic power. Both must go hand-in-hand. \n",
        "\n",
        "#                My good fortune was to have worked with three great minds. Dr. Vikram Sarabhai of the Dept. of \n",
        "\n",
        "#                space, Professor Satish Dhawan, who succeeded him and Dr. Brahm Prakash, father of nuclear material.\n",
        "\n",
        "#                I was lucky to have worked with all three of them closely and consider this the great opportunity of my life. \n",
        "\n",
        "#                I see four milestones in my career\"\"\"\n",
        "\n",
        "\n",
        "\n",
        "paragraph = \"\"\"The bloody Siege of Chittorgarh in 1568 had led to the loss of the fertile eastern belt of Mewar to the Mughals. \n",
        "However, the rest of the wooded and hilly kingdom was still under the control of the Rana. The Mughal emperor Akbar was intent on securing a stable route to Gujarat through Mewar; \n",
        "when Pratap Singh was crowned king (Rana) in 1572, Akbar sent a number of envoys entreating the Rana to become a vassal like many other Rajput leaders in the region. \n",
        "When the Rana refused to personally submit to Akbar, war became inevitable.[8][9]The Battle of Haldighati was fought on 18 June 1576 between Maharana Pratap and Akbar's forces led by Man Singh I of Amer. \n",
        "The Mughals were victorious and inflicted significant casualties among the Mewaris but failed to capture Maharana. The site of the battle was a narrow mountain pass at Haldighati near Gogunda, \n",
        "modern day Rajsamand in Rajasthan. Maharana Pratap fielded a force of around 3000 cavalry and 400 Bhil archers. The Mughals were led by Man Singh of Amber, who commanded an army numbering around \n",
        "5000-10,000 men. After a fierce battle lasting more than six hours, Maharana found himself wounded and the day lost. The mughal were unable to capture him. He managed to escape to the hills and \n",
        "lived to fight another day.[10]Haldighati was a futile victory for the Mughals, as they were unable to capture Maharana Pratap, or any of his close family members in Udaipur. \n",
        "As soon as the empire's focus shifted north-west, Pratap and his army came out of hiding and recaptured the western regions of his dominion.\n",
        "\"\"\""
      ],
      "execution_count": 0,
      "outputs": []
    },
    {
      "cell_type": "code",
      "metadata": {
        "id": "tmoAsz01ditE",
        "colab_type": "code",
        "colab": {
          "base_uri": "https://localhost:8080/",
          "height": 55
        },
        "outputId": "c4d9cd79-9742-44e4-91d6-7078bfe1a92d"
      },
      "source": [
        "text = re.sub(r'\\[[0-9]*\\?]',' ',paragraph)\n",
        "text = re.sub('\\s+', ' ', text)\n",
        "text = text.lower()\n",
        "text = re.sub('\\s+', ' ', text)\n",
        "text = re.sub('\\d', ' ', text )\n",
        "print(text)"
      ],
      "execution_count": 20,
      "outputs": [
        {
          "output_type": "stream",
          "text": [
            "the bloody siege of chittorgarh in      had led to the loss of the fertile eastern belt of mewar to the mughals. however, the rest of the wooded and hilly kingdom was still under the control of the rana. the mughal emperor akbar was intent on securing a stable route to gujarat through mewar; when pratap singh was crowned king (rana) in     , akbar sent a number of envoys entreating the rana to become a vassal like many other rajput leaders in the region. when the rana refused to personally submit to akbar, war became inevitable.[ ][ ]the battle of haldighati was fought on    june      between maharana pratap and akbar's forces led by man singh i of amer. the mughals were victorious and inflicted significant casualties among the mewaris but failed to capture maharana. the site of the battle was a narrow mountain pass at haldighati near gogunda, modern day rajsamand in rajasthan. maharana pratap fielded a force of around      cavalry and     bhil archers. the mughals were led by man singh of amber, who commanded an army numbering around     -  ,    men. after a fierce battle lasting more than six hours, maharana found himself wounded and the day lost. the mughal were unable to capture him. he managed to escape to the hills and lived to fight another day.[  ]haldighati was a futile victory for the mughals, as they were unable to capture maharana pratap, or any of his close family members in udaipur. as soon as the empire's focus shifted north-west, pratap and his army came out of hiding and recaptured the western regions of his dominion. \n"
          ],
          "name": "stdout"
        }
      ]
    },
    {
      "cell_type": "code",
      "metadata": {
        "id": "g4s4zAIlb4le",
        "colab_type": "code",
        "colab": {
          "base_uri": "https://localhost:8080/",
          "height": 55
        },
        "outputId": "99b60c24-5ad6-47f6-a894-9a39cc2322c6"
      },
      "source": [
        "sentences  = nltk.sent_tokenize(text)\n",
        "sentences = [nltk.word_tokenize(sentence) for sentence in sentences]\n",
        "# sentences = [nltk.word_tokenize(sentence) for sentence in sentences]\n",
        "print(sentences)"
      ],
      "execution_count": 21,
      "outputs": [
        {
          "output_type": "stream",
          "text": [
            "[['the', 'bloody', 'siege', 'of', 'chittorgarh', 'in', 'had', 'led', 'to', 'the', 'loss', 'of', 'the', 'fertile', 'eastern', 'belt', 'of', 'mewar', 'to', 'the', 'mughals', '.'], ['however', ',', 'the', 'rest', 'of', 'the', 'wooded', 'and', 'hilly', 'kingdom', 'was', 'still', 'under', 'the', 'control', 'of', 'the', 'rana', '.'], ['the', 'mughal', 'emperor', 'akbar', 'was', 'intent', 'on', 'securing', 'a', 'stable', 'route', 'to', 'gujarat', 'through', 'mewar', ';', 'when', 'pratap', 'singh', 'was', 'crowned', 'king', '(', 'rana', ')', 'in', ',', 'akbar', 'sent', 'a', 'number', 'of', 'envoys', 'entreating', 'the', 'rana', 'to', 'become', 'a', 'vassal', 'like', 'many', 'other', 'rajput', 'leaders', 'in', 'the', 'region', '.'], ['when', 'the', 'rana', 'refused', 'to', 'personally', 'submit', 'to', 'akbar', ',', 'war', 'became', 'inevitable', '.'], ['[', ']', '[', ']', 'the', 'battle', 'of', 'haldighati', 'was', 'fought', 'on', 'june', 'between', 'maharana', 'pratap', 'and', 'akbar', \"'s\", 'forces', 'led', 'by', 'man', 'singh', 'i', 'of', 'amer', '.'], ['the', 'mughals', 'were', 'victorious', 'and', 'inflicted', 'significant', 'casualties', 'among', 'the', 'mewaris', 'but', 'failed', 'to', 'capture', 'maharana', '.'], ['the', 'site', 'of', 'the', 'battle', 'was', 'a', 'narrow', 'mountain', 'pass', 'at', 'haldighati', 'near', 'gogunda', ',', 'modern', 'day', 'rajsamand', 'in', 'rajasthan', '.'], ['maharana', 'pratap', 'fielded', 'a', 'force', 'of', 'around', 'cavalry', 'and', 'bhil', 'archers', '.'], ['the', 'mughals', 'were', 'led', 'by', 'man', 'singh', 'of', 'amber', ',', 'who', 'commanded', 'an', 'army', 'numbering', 'around', '-', ',', 'men', '.'], ['after', 'a', 'fierce', 'battle', 'lasting', 'more', 'than', 'six', 'hours', ',', 'maharana', 'found', 'himself', 'wounded', 'and', 'the', 'day', 'lost', '.'], ['the', 'mughal', 'were', 'unable', 'to', 'capture', 'him', '.'], ['he', 'managed', 'to', 'escape', 'to', 'the', 'hills', 'and', 'lived', 'to', 'fight', 'another', 'day', '.'], ['[', ']', 'haldighati', 'was', 'a', 'futile', 'victory', 'for', 'the', 'mughals', ',', 'as', 'they', 'were', 'unable', 'to', 'capture', 'maharana', 'pratap', ',', 'or', 'any', 'of', 'his', 'close', 'family', 'members', 'in', 'udaipur', '.'], ['as', 'soon', 'as', 'the', 'empire', \"'s\", 'focus', 'shifted', 'north-west', ',', 'pratap', 'and', 'his', 'army', 'came', 'out', 'of', 'hiding', 'and', 'recaptured', 'the', 'western', 'regions', 'of', 'his', 'dominion', '.']]\n"
          ],
          "name": "stdout"
        }
      ]
    },
    {
      "cell_type": "code",
      "metadata": {
        "id": "Tpmm3tuVfBY_",
        "colab_type": "code",
        "colab": {}
      },
      "source": [
        "for i in range(len(sentences)):\n",
        "  sentences[i] = [word for word in sentences[i] if word not in stopwords.words('english')]"
      ],
      "execution_count": 0,
      "outputs": []
    },
    {
      "cell_type": "code",
      "metadata": {
        "id": "7s11m2yYfu_U",
        "colab_type": "code",
        "colab": {
          "base_uri": "https://localhost:8080/",
          "height": 1000
        },
        "outputId": "437a5466-baa0-4a74-fd28-954d6e9afda2"
      },
      "source": [
        "sentences\n",
        "# len(sentences)"
      ],
      "execution_count": 23,
      "outputs": [
        {
          "output_type": "execute_result",
          "data": {
            "text/plain": [
              "[['bloody',\n",
              "  'siege',\n",
              "  'chittorgarh',\n",
              "  'led',\n",
              "  'loss',\n",
              "  'fertile',\n",
              "  'eastern',\n",
              "  'belt',\n",
              "  'mewar',\n",
              "  'mughals',\n",
              "  '.'],\n",
              " ['however',\n",
              "  ',',\n",
              "  'rest',\n",
              "  'wooded',\n",
              "  'hilly',\n",
              "  'kingdom',\n",
              "  'still',\n",
              "  'control',\n",
              "  'rana',\n",
              "  '.'],\n",
              " ['mughal',\n",
              "  'emperor',\n",
              "  'akbar',\n",
              "  'intent',\n",
              "  'securing',\n",
              "  'stable',\n",
              "  'route',\n",
              "  'gujarat',\n",
              "  'mewar',\n",
              "  ';',\n",
              "  'pratap',\n",
              "  'singh',\n",
              "  'crowned',\n",
              "  'king',\n",
              "  '(',\n",
              "  'rana',\n",
              "  ')',\n",
              "  ',',\n",
              "  'akbar',\n",
              "  'sent',\n",
              "  'number',\n",
              "  'envoys',\n",
              "  'entreating',\n",
              "  'rana',\n",
              "  'become',\n",
              "  'vassal',\n",
              "  'like',\n",
              "  'many',\n",
              "  'rajput',\n",
              "  'leaders',\n",
              "  'region',\n",
              "  '.'],\n",
              " ['rana',\n",
              "  'refused',\n",
              "  'personally',\n",
              "  'submit',\n",
              "  'akbar',\n",
              "  ',',\n",
              "  'war',\n",
              "  'became',\n",
              "  'inevitable',\n",
              "  '.'],\n",
              " ['[',\n",
              "  ']',\n",
              "  '[',\n",
              "  ']',\n",
              "  'battle',\n",
              "  'haldighati',\n",
              "  'fought',\n",
              "  'june',\n",
              "  'maharana',\n",
              "  'pratap',\n",
              "  'akbar',\n",
              "  \"'s\",\n",
              "  'forces',\n",
              "  'led',\n",
              "  'man',\n",
              "  'singh',\n",
              "  'amer',\n",
              "  '.'],\n",
              " ['mughals',\n",
              "  'victorious',\n",
              "  'inflicted',\n",
              "  'significant',\n",
              "  'casualties',\n",
              "  'among',\n",
              "  'mewaris',\n",
              "  'failed',\n",
              "  'capture',\n",
              "  'maharana',\n",
              "  '.'],\n",
              " ['site',\n",
              "  'battle',\n",
              "  'narrow',\n",
              "  'mountain',\n",
              "  'pass',\n",
              "  'haldighati',\n",
              "  'near',\n",
              "  'gogunda',\n",
              "  ',',\n",
              "  'modern',\n",
              "  'day',\n",
              "  'rajsamand',\n",
              "  'rajasthan',\n",
              "  '.'],\n",
              " ['maharana',\n",
              "  'pratap',\n",
              "  'fielded',\n",
              "  'force',\n",
              "  'around',\n",
              "  'cavalry',\n",
              "  'bhil',\n",
              "  'archers',\n",
              "  '.'],\n",
              " ['mughals',\n",
              "  'led',\n",
              "  'man',\n",
              "  'singh',\n",
              "  'amber',\n",
              "  ',',\n",
              "  'commanded',\n",
              "  'army',\n",
              "  'numbering',\n",
              "  'around',\n",
              "  '-',\n",
              "  ',',\n",
              "  'men',\n",
              "  '.'],\n",
              " ['fierce',\n",
              "  'battle',\n",
              "  'lasting',\n",
              "  'six',\n",
              "  'hours',\n",
              "  ',',\n",
              "  'maharana',\n",
              "  'found',\n",
              "  'wounded',\n",
              "  'day',\n",
              "  'lost',\n",
              "  '.'],\n",
              " ['mughal', 'unable', 'capture', '.'],\n",
              " ['managed', 'escape', 'hills', 'lived', 'fight', 'another', 'day', '.'],\n",
              " ['[',\n",
              "  ']',\n",
              "  'haldighati',\n",
              "  'futile',\n",
              "  'victory',\n",
              "  'mughals',\n",
              "  ',',\n",
              "  'unable',\n",
              "  'capture',\n",
              "  'maharana',\n",
              "  'pratap',\n",
              "  ',',\n",
              "  'close',\n",
              "  'family',\n",
              "  'members',\n",
              "  'udaipur',\n",
              "  '.'],\n",
              " ['soon',\n",
              "  'empire',\n",
              "  \"'s\",\n",
              "  'focus',\n",
              "  'shifted',\n",
              "  'north-west',\n",
              "  ',',\n",
              "  'pratap',\n",
              "  'army',\n",
              "  'came',\n",
              "  'hiding',\n",
              "  'recaptured',\n",
              "  'western',\n",
              "  'regions',\n",
              "  'dominion',\n",
              "  '.']]"
            ]
          },
          "metadata": {
            "tags": []
          },
          "execution_count": 23
        }
      ]
    },
    {
      "cell_type": "code",
      "metadata": {
        "id": "uxSAfpSMg5b8",
        "colab_type": "code",
        "colab": {}
      },
      "source": [
        "# Training the model\n",
        "model = Word2Vec(sentences, min_count = 1)"
      ],
      "execution_count": 0,
      "outputs": []
    },
    {
      "cell_type": "code",
      "metadata": {
        "id": "iAShdtcshZol",
        "colab_type": "code",
        "colab": {
          "base_uri": "https://localhost:8080/",
          "height": 1000
        },
        "outputId": "6584d42c-0855-43fe-983e-d64f19818bbc"
      },
      "source": [
        "words = model.wv.vocab\n",
        "words"
      ],
      "execution_count": 25,
      "outputs": [
        {
          "output_type": "execute_result",
          "data": {
            "text/plain": [
              "{\"'s\": <gensim.models.keyedvectors.Vocab at 0x7f7357b384e0>,\n",
              " '(': <gensim.models.keyedvectors.Vocab at 0x7f735a260160>,\n",
              " ')': <gensim.models.keyedvectors.Vocab at 0x7f735a260be0>,\n",
              " ',': <gensim.models.keyedvectors.Vocab at 0x7f7357b3c898>,\n",
              " '-': <gensim.models.keyedvectors.Vocab at 0x7f7357b38b38>,\n",
              " '.': <gensim.models.keyedvectors.Vocab at 0x7f7357b3c828>,\n",
              " ';': <gensim.models.keyedvectors.Vocab at 0x7f735a260dd8>,\n",
              " '[': <gensim.models.keyedvectors.Vocab at 0x7f735a260d30>,\n",
              " ']': <gensim.models.keyedvectors.Vocab at 0x7f735a2605f8>,\n",
              " 'akbar': <gensim.models.keyedvectors.Vocab at 0x7f7357b3cb70>,\n",
              " 'amber': <gensim.models.keyedvectors.Vocab at 0x7f7357b38860>,\n",
              " 'amer': <gensim.models.keyedvectors.Vocab at 0x7f7357b386a0>,\n",
              " 'among': <gensim.models.keyedvectors.Vocab at 0x7f7357b38518>,\n",
              " 'another': <gensim.models.keyedvectors.Vocab at 0x7f7357b38fd0>,\n",
              " 'archers': <gensim.models.keyedvectors.Vocab at 0x7f7357b38198>,\n",
              " 'army': <gensim.models.keyedvectors.Vocab at 0x7f7357b389b0>,\n",
              " 'around': <gensim.models.keyedvectors.Vocab at 0x7f7357b38b00>,\n",
              " 'battle': <gensim.models.keyedvectors.Vocab at 0x7f735a260e48>,\n",
              " 'became': <gensim.models.keyedvectors.Vocab at 0x7f735a260978>,\n",
              " 'become': <gensim.models.keyedvectors.Vocab at 0x7f735a260208>,\n",
              " 'belt': <gensim.models.keyedvectors.Vocab at 0x7f7357b3c080>,\n",
              " 'bhil': <gensim.models.keyedvectors.Vocab at 0x7f7357b38048>,\n",
              " 'bloody': <gensim.models.keyedvectors.Vocab at 0x7f7357b3c4a8>,\n",
              " 'came': <gensim.models.keyedvectors.Vocab at 0x7f7357b3d2b0>,\n",
              " 'capture': <gensim.models.keyedvectors.Vocab at 0x7f7357b385c0>,\n",
              " 'casualties': <gensim.models.keyedvectors.Vocab at 0x7f7357b38ba8>,\n",
              " 'cavalry': <gensim.models.keyedvectors.Vocab at 0x7f7357b38eb8>,\n",
              " 'chittorgarh': <gensim.models.keyedvectors.Vocab at 0x7f7357b3c518>,\n",
              " 'close': <gensim.models.keyedvectors.Vocab at 0x7f7357b3d0b8>,\n",
              " 'commanded': <gensim.models.keyedvectors.Vocab at 0x7f7357b38a58>,\n",
              " 'control': <gensim.models.keyedvectors.Vocab at 0x7f7357b3c748>,\n",
              " 'crowned': <gensim.models.keyedvectors.Vocab at 0x7f735a260128>,\n",
              " 'day': <gensim.models.keyedvectors.Vocab at 0x7f7357b38908>,\n",
              " 'dominion': <gensim.models.keyedvectors.Vocab at 0x7f7357b3d3c8>,\n",
              " 'eastern': <gensim.models.keyedvectors.Vocab at 0x7f7357b3c550>,\n",
              " 'emperor': <gensim.models.keyedvectors.Vocab at 0x7f7357b3cf60>,\n",
              " 'empire': <gensim.models.keyedvectors.Vocab at 0x7f7357b3d1d0>,\n",
              " 'entreating': <gensim.models.keyedvectors.Vocab at 0x7f735a260630>,\n",
              " 'envoys': <gensim.models.keyedvectors.Vocab at 0x7f735a260748>,\n",
              " 'escape': <gensim.models.keyedvectors.Vocab at 0x7f7357b38da0>,\n",
              " 'failed': <gensim.models.keyedvectors.Vocab at 0x7f7357b38668>,\n",
              " 'family': <gensim.models.keyedvectors.Vocab at 0x7f7357b3d0f0>,\n",
              " 'fertile': <gensim.models.keyedvectors.Vocab at 0x7f7357b3c390>,\n",
              " 'fielded': <gensim.models.keyedvectors.Vocab at 0x7f7357b38a20>,\n",
              " 'fierce': <gensim.models.keyedvectors.Vocab at 0x7f7357b38ef0>,\n",
              " 'fight': <gensim.models.keyedvectors.Vocab at 0x7f7357b38828>,\n",
              " 'focus': <gensim.models.keyedvectors.Vocab at 0x7f7357b3d208>,\n",
              " 'force': <gensim.models.keyedvectors.Vocab at 0x7f7357b38a90>,\n",
              " 'forces': <gensim.models.keyedvectors.Vocab at 0x7f7357b38780>,\n",
              " 'fought': <gensim.models.keyedvectors.Vocab at 0x7f7357b38390>,\n",
              " 'found': <gensim.models.keyedvectors.Vocab at 0x7f7357b38b70>,\n",
              " 'futile': <gensim.models.keyedvectors.Vocab at 0x7f7357b3d048>,\n",
              " 'gogunda': <gensim.models.keyedvectors.Vocab at 0x7f7357b38f28>,\n",
              " 'gujarat': <gensim.models.keyedvectors.Vocab at 0x7f7357b3ca58>,\n",
              " 'haldighati': <gensim.models.keyedvectors.Vocab at 0x7f7357b387b8>,\n",
              " 'hiding': <gensim.models.keyedvectors.Vocab at 0x7f7357b3d2e8>,\n",
              " 'hills': <gensim.models.keyedvectors.Vocab at 0x7f7357b38898>,\n",
              " 'hilly': <gensim.models.keyedvectors.Vocab at 0x7f7357b3ccf8>,\n",
              " 'hours': <gensim.models.keyedvectors.Vocab at 0x7f7357b38160>,\n",
              " 'however': <gensim.models.keyedvectors.Vocab at 0x7f7357b3c978>,\n",
              " 'inevitable': <gensim.models.keyedvectors.Vocab at 0x7f735a260b38>,\n",
              " 'inflicted': <gensim.models.keyedvectors.Vocab at 0x7f7357b38c18>,\n",
              " 'intent': <gensim.models.keyedvectors.Vocab at 0x7f7357b3cdd8>,\n",
              " 'june': <gensim.models.keyedvectors.Vocab at 0x7f7357b38128>,\n",
              " 'king': <gensim.models.keyedvectors.Vocab at 0x7f735a260ac8>,\n",
              " 'kingdom': <gensim.models.keyedvectors.Vocab at 0x7f7357b3cb00>,\n",
              " 'lasting': <gensim.models.keyedvectors.Vocab at 0x7f7357b38e10>,\n",
              " 'leaders': <gensim.models.keyedvectors.Vocab at 0x7f735a2604a8>,\n",
              " 'led': <gensim.models.keyedvectors.Vocab at 0x7f7357b3c400>,\n",
              " 'like': <gensim.models.keyedvectors.Vocab at 0x7f735a260eb8>,\n",
              " 'lived': <gensim.models.keyedvectors.Vocab at 0x7f7357b38f98>,\n",
              " 'loss': <gensim.models.keyedvectors.Vocab at 0x7f7357b3c160>,\n",
              " 'lost': <gensim.models.keyedvectors.Vocab at 0x7f7357b38cf8>,\n",
              " 'maharana': <gensim.models.keyedvectors.Vocab at 0x7f7357b388d0>,\n",
              " 'man': <gensim.models.keyedvectors.Vocab at 0x7f7357b38748>,\n",
              " 'managed': <gensim.models.keyedvectors.Vocab at 0x7f7357b38d68>,\n",
              " 'many': <gensim.models.keyedvectors.Vocab at 0x7f735a260a90>,\n",
              " 'members': <gensim.models.keyedvectors.Vocab at 0x7f7357b3d128>,\n",
              " 'men': <gensim.models.keyedvectors.Vocab at 0x7f7357b38278>,\n",
              " 'mewar': <gensim.models.keyedvectors.Vocab at 0x7f7357b3c630>,\n",
              " 'mewaris': <gensim.models.keyedvectors.Vocab at 0x7f7357b387f0>,\n",
              " 'modern': <gensim.models.keyedvectors.Vocab at 0x7f7357b38dd8>,\n",
              " 'mountain': <gensim.models.keyedvectors.Vocab at 0x7f7357b38cc0>,\n",
              " 'mughal': <gensim.models.keyedvectors.Vocab at 0x7f7357b3cf28>,\n",
              " 'mughals': <gensim.models.keyedvectors.Vocab at 0x7f7357b3cac8>,\n",
              " 'narrow': <gensim.models.keyedvectors.Vocab at 0x7f7357b38c88>,\n",
              " 'near': <gensim.models.keyedvectors.Vocab at 0x7f7357b38ac8>,\n",
              " 'north-west': <gensim.models.keyedvectors.Vocab at 0x7f7357b3d278>,\n",
              " 'number': <gensim.models.keyedvectors.Vocab at 0x7f735a260cc0>,\n",
              " 'numbering': <gensim.models.keyedvectors.Vocab at 0x7f7357b38e80>,\n",
              " 'pass': <gensim.models.keyedvectors.Vocab at 0x7f7357b380f0>,\n",
              " 'personally': <gensim.models.keyedvectors.Vocab at 0x7f735a260b70>,\n",
              " 'pratap': <gensim.models.keyedvectors.Vocab at 0x7f735a260278>,\n",
              " 'rajasthan': <gensim.models.keyedvectors.Vocab at 0x7f7357b389e8>,\n",
              " 'rajput': <gensim.models.keyedvectors.Vocab at 0x7f735a2608d0>,\n",
              " 'rajsamand': <gensim.models.keyedvectors.Vocab at 0x7f7357b38978>,\n",
              " 'rana': <gensim.models.keyedvectors.Vocab at 0x7f7357b3c9e8>,\n",
              " 'recaptured': <gensim.models.keyedvectors.Vocab at 0x7f7357b3d320>,\n",
              " 'refused': <gensim.models.keyedvectors.Vocab at 0x7f735a260a20>,\n",
              " 'region': <gensim.models.keyedvectors.Vocab at 0x7f735a260198>,\n",
              " 'regions': <gensim.models.keyedvectors.Vocab at 0x7f7357b3d390>,\n",
              " 'rest': <gensim.models.keyedvectors.Vocab at 0x7f7357b3cc18>,\n",
              " 'route': <gensim.models.keyedvectors.Vocab at 0x7f7357b3cbe0>,\n",
              " 'securing': <gensim.models.keyedvectors.Vocab at 0x7f7357b3cf98>,\n",
              " 'sent': <gensim.models.keyedvectors.Vocab at 0x7f735a2606d8>,\n",
              " 'shifted': <gensim.models.keyedvectors.Vocab at 0x7f7357b3d240>,\n",
              " 'siege': <gensim.models.keyedvectors.Vocab at 0x7f7357b3ceb8>,\n",
              " 'significant': <gensim.models.keyedvectors.Vocab at 0x7f7357b38be0>,\n",
              " 'singh': <gensim.models.keyedvectors.Vocab at 0x7f735a260518>,\n",
              " 'site': <gensim.models.keyedvectors.Vocab at 0x7f7357b385f8>,\n",
              " 'six': <gensim.models.keyedvectors.Vocab at 0x7f7357b38e48>,\n",
              " 'soon': <gensim.models.keyedvectors.Vocab at 0x7f7357b3d198>,\n",
              " 'stable': <gensim.models.keyedvectors.Vocab at 0x7f7357b3c8d0>,\n",
              " 'still': <gensim.models.keyedvectors.Vocab at 0x7f7357b3cc88>,\n",
              " 'submit': <gensim.models.keyedvectors.Vocab at 0x7f735a260908>,\n",
              " 'udaipur': <gensim.models.keyedvectors.Vocab at 0x7f7357b3d160>,\n",
              " 'unable': <gensim.models.keyedvectors.Vocab at 0x7f7357b38d30>,\n",
              " 'vassal': <gensim.models.keyedvectors.Vocab at 0x7f735a260780>,\n",
              " 'victorious': <gensim.models.keyedvectors.Vocab at 0x7f7357b38c50>,\n",
              " 'victory': <gensim.models.keyedvectors.Vocab at 0x7f7357b3d080>,\n",
              " 'war': <gensim.models.keyedvectors.Vocab at 0x7f735a260f60>,\n",
              " 'western': <gensim.models.keyedvectors.Vocab at 0x7f7357b3d358>,\n",
              " 'wooded': <gensim.models.keyedvectors.Vocab at 0x7f7357b3c710>,\n",
              " 'wounded': <gensim.models.keyedvectors.Vocab at 0x7f7357b38f60>}"
            ]
          },
          "metadata": {
            "tags": []
          },
          "execution_count": 25
        }
      ]
    },
    {
      "cell_type": "code",
      "metadata": {
        "id": "8gQWrnSIhdS_",
        "colab_type": "code",
        "colab": {
          "base_uri": "https://localhost:8080/",
          "height": 479
        },
        "outputId": "fcca0453-c540-4132-eeab-a9615ff81026"
      },
      "source": [
        "vector = model.wv['war']\n",
        "vector"
      ],
      "execution_count": 26,
      "outputs": [
        {
          "output_type": "execute_result",
          "data": {
            "text/plain": [
              "array([ 4.3097525e-03, -4.0256279e-03, -4.4707595e-03,  1.1281990e-03,\n",
              "        1.1105486e-03, -4.9343808e-03,  2.9906607e-03, -4.7783637e-03,\n",
              "        4.0606610e-03,  1.8137553e-03,  2.2590987e-03,  3.9252280e-03,\n",
              "        4.2838720e-04, -9.5079845e-04, -3.5987552e-03,  3.0360449e-04,\n",
              "       -1.9239122e-03,  4.4537662e-03, -4.0190956e-03, -9.2230324e-04,\n",
              "        1.7993138e-03, -9.9775370e-04, -1.8660269e-03, -5.1399349e-04,\n",
              "        4.6739378e-03, -3.3513759e-03, -1.2874414e-03,  3.2771034e-03,\n",
              "        1.9123779e-03, -2.7496242e-03,  4.8676562e-03, -3.7372492e-03,\n",
              "        3.9231968e-03, -2.7200503e-03,  3.9715301e-03, -4.5198921e-04,\n",
              "       -3.5005524e-03, -3.0548642e-03, -1.4581624e-03, -3.7732655e-03,\n",
              "       -4.2861411e-03, -4.3898961e-03,  1.2497645e-03, -3.1920909e-03,\n",
              "       -1.1307361e-03,  2.3981244e-03, -3.4584573e-03, -4.0941313e-03,\n",
              "       -4.6436088e-03,  2.7806647e-03,  1.5441574e-03,  1.1151126e-03,\n",
              "        3.4593272e-03, -4.1121026e-03, -5.6049920e-04,  3.1716961e-03,\n",
              "        1.8091333e-03, -2.5142075e-03,  3.9036982e-04, -1.8054185e-03,\n",
              "        3.2722095e-03, -4.1230884e-03, -1.3563388e-03, -3.0453955e-03,\n",
              "       -3.3704073e-03, -8.9020288e-04,  3.7470388e-03, -2.4862657e-04,\n",
              "        3.5556648e-03,  2.7770267e-03, -3.5524638e-03,  3.6785479e-03,\n",
              "       -4.8639285e-03,  7.1655144e-04, -4.4963961e-03,  4.1588955e-03,\n",
              "        4.5977077e-03, -1.2998182e-03,  3.7171775e-03, -3.9046223e-03,\n",
              "        2.3587919e-03, -2.1351504e-03,  1.1373185e-04, -1.0274794e-03,\n",
              "       -4.5059663e-03,  2.8628607e-03, -4.1940079e-05,  1.2495476e-03,\n",
              "        4.1186493e-03, -3.4393563e-03, -2.2335853e-03, -1.1845334e-03,\n",
              "       -7.4732926e-04,  4.7893864e-03,  4.3707471e-03,  1.1833344e-03,\n",
              "       -1.2820282e-03,  4.4688247e-03, -1.9001889e-04,  4.7428356e-03],\n",
              "      dtype=float32)"
            ]
          },
          "metadata": {
            "tags": []
          },
          "execution_count": 26
        }
      ]
    },
    {
      "cell_type": "code",
      "metadata": {
        "id": "eZc89R2UhmhK",
        "colab_type": "code",
        "colab": {
          "base_uri": "https://localhost:8080/",
          "height": 250
        },
        "outputId": "e2aad56b-718e-4794-9deb-0869dd2324e9"
      },
      "source": [
        "# Most similar words\n",
        "similar = model.wv.most_similar('haldighati')\n",
        "similar"
      ],
      "execution_count": 27,
      "outputs": [
        {
          "output_type": "stream",
          "text": [
            "/usr/local/lib/python3.6/dist-packages/gensim/matutils.py:737: FutureWarning: Conversion of the second argument of issubdtype from `int` to `np.signedinteger` is deprecated. In future, it will be treated as `np.int64 == np.dtype(int).type`.\n",
            "  if np.issubdtype(vec.dtype, np.int):\n"
          ],
          "name": "stderr"
        },
        {
          "output_type": "execute_result",
          "data": {
            "text/plain": [
              "[('vassal', 0.254116028547287),\n",
              " ('control', 0.2203998863697052),\n",
              " ('another', 0.1868228316307068),\n",
              " (';', 0.1762179434299469),\n",
              " ('bloody', 0.15591339766979218),\n",
              " ('inevitable', 0.15058156847953796),\n",
              " ('close', 0.150446355342865),\n",
              " ('rest', 0.14931979775428772),\n",
              " ('modern', 0.14432913064956665),\n",
              " ('site', 0.1404067724943161)]"
            ]
          },
          "metadata": {
            "tags": []
          },
          "execution_count": 27
        }
      ]
    },
    {
      "cell_type": "code",
      "metadata": {
        "id": "b6vu5PWxi93u",
        "colab_type": "code",
        "colab": {}
      },
      "source": [
        ""
      ],
      "execution_count": 0,
      "outputs": []
    }
  ]
}